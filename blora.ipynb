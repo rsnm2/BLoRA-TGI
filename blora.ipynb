{
 "cells": [
  {
   "cell_type": "code",
   "execution_count": 1,
   "metadata": {},
   "outputs": [
    {
     "name": "stderr",
     "output_type": "stream",
     "text": [
      "/home/ubuntu/minimal-llama/venv/lib/python3.10/site-packages/tqdm/auto.py:21: TqdmWarning: IProgress not found. Please update jupyter and ipywidgets. See https://ipywidgets.readthedocs.io/en/stable/user_install.html\n",
      "  from .autonotebook import tqdm as notebook_tqdm\n"
     ]
    }
   ],
   "source": [
    "%load_ext autoreload\n",
    "%autoreload 2\n",
    "\n",
    "import torch\n",
    "import transformers\n",
    "\n",
    "from peft.tuners.lora import Linear\n",
    "import torch.nn.functional as F\n",
    "from peft.utils.other import transpose\n",
    "from peft import PeftModel\n",
    "\n",
    "import numpy as np\n",
    "\n",
    "from blora_utils import forward, StreamingPeftModel\n",
    "import scipy.stats as stats\n",
    "import matplotlib.pyplot as plt\n",
    "import random\n",
    "from IPython.display import clear_output\n",
    "\n",
    "\n",
    "Linear.forward = forward\n",
    "torch.set_default_tensor_type(torch.cuda.FloatTensor)"
   ]
  },
  {
   "cell_type": "code",
   "execution_count": 8,
   "metadata": {},
   "outputs": [
    {
     "name": "stderr",
     "output_type": "stream",
     "text": [
      "Loading checkpoint shards: 100%|██████████| 33/33 [00:11<00:00,  2.97it/s]\n",
      "The tokenizer class you load from this checkpoint is not the same type as the class this function is called from. It may result in unexpected tokenization. \n",
      "The tokenizer class you load from this checkpoint is 'LLaMATokenizer'. \n",
      "The class this function is called from is 'LlamaTokenizer'.\n"
     ]
    }
   ],
   "source": [
    "loras = [\"jondurbin/airoboros-7b-gpt4-1.2-peft\", \"trl-lib/llama-7b-se-rl-peft\", \"winddude/wizardLM-LlaMA-LoRA-7B\"]\n",
    "model_path = \"/home/ubuntu/llama-weights/7B/llama-7b\"\n",
    "\n",
    "torch.set_default_tensor_type(torch.cuda.HalfTensor)\n",
    "model = transformers.LlamaForCausalLM.from_pretrained(model_path)\n",
    "tokenizer = transformers.LlamaTokenizer.from_pretrained(model_path)\n",
    "tokenizer.pad_token = 0"
   ]
  },
  {
   "cell_type": "code",
   "execution_count": 9,
   "metadata": {},
   "outputs": [],
   "source": [
    "def load_loras(model, loras):\n",
    "    # peft throws error if lora name contains a dot\n",
    "    adapters = [lora.replace(\".\", \"_\") for lora in loras]\n",
    "    lora_map = {lora: adapter for lora, adapter in zip(loras, adapters)}\n",
    "    model = StreamingPeftModel.from_pretrained(model, loras[0], adapter_name=adapters[0])\n",
    "    for lora, adapter in zip(loras[1:], adapters[1:]):\n",
    "        model = StreamingPeftModel.from_pretrained(model.base_model.model, lora, adapter_name=adapter)\n",
    "    return model, lora_map\n",
    "\n",
    "model, lora_map = load_loras(model, loras)"
   ]
  },
  {
   "cell_type": "code",
   "execution_count": null,
   "metadata": {},
   "outputs": [],
   "source": [
    "prompts = [\n",
    "    \"Outline a five sentence short story where a character stumbles upon a secret room in their house that contains relics from their future.\",\n",
    "    \"Write a 6 line dialogue between a character and a magical creature that only they can see.\",\n",
    "    \"Describe a four sentence scene where a character discovers a hidden talent that changes their life forever.\",\n",
    "    \"Sculpt a three verse poem about the feeling of walking through a lush, vibrant garden in full bloom.\",\n",
    "    \"Develop an eight sentence short story about a character who can bring their dreams into reality, but only for a limited time.\",\n",
    "    \"Create a six sentence scene where a character finds themselves in a world where emotions are visible as colors surrounding each person.\",\n",
    "    \"Design an nine line dialogue between a character and a sentient cloud that follows them everywhere they go.\",\n",
    "    \"Narrate a 10 sentence story about a character who can switch between different realities, but can't control when or where they will end up.\",\n",
    "    \"Draft a three verse poem about the feeling of encountering a breathtaking view from a mountaintop.\",\n",
    "    \"Write a four sentence scene where a character discovers they can rewind time, but only in 10-second increments.\",\n",
    "    \"Capture a five sentence short story about a character who can communicate with nature, seeking help from plants and animals to solve a mystery.\",\n",
    "    \"Portray an eight line dialogue between a character and a ghost who is unaware of their own death.\"\n",
    "    ]"
   ]
  },
  {
   "cell_type": "code",
   "execution_count": null,
   "metadata": {},
   "outputs": [],
   "source": [
    "inputs = [(p, random.choice(loras)) for p in prompts]\n",
    "batch = tokenizer(prompts, return_tensors=\"pt\", padding=True)\n",
    "inp_loras = [lora_map[inp[1]] for inp in inputs] \n",
    "\n",
    "for name, module in model.named_modules():\n",
    "    module.batch_lora_ids = inp_loras"
   ]
  },
  {
   "cell_type": "code",
   "execution_count": null,
   "metadata": {},
   "outputs": [],
   "source": [
    "starter, ender = torch.cuda.Event(enable_timing=True), torch.cuda.Event(enable_timing=True)\n",
    "repetitions = 1\n",
    "timings=np.zeros((repetitions,1))\n",
    "\n",
    "outputs = []\n",
    "\n",
    "with torch.no_grad():\n",
    "    for rep in range(repetitions):\n",
    "        starter.record()\n",
    "        for out in model.generate(\n",
    "            # inputs=batch['input_ids'],\n",
    "            # attention_mask=batch['attention_mask'],\n",
    "            **batch,\n",
    "            max_length=200,\n",
    "            stream_output=True\n",
    "        ):\n",
    "            outputs.append(out)\n",
    "            batch_decoded = tokenizer.batch_decode(torch.cat([out.reshape(-1, 1) for out in outputs], dim=1))\n",
    "            clear_output(wait=True)\n",
    "            print(\"\\n\\n\".join([lora + \":\\n\" + prompt + '\\n' + decoded for lora, prompt, decoded in zip(inp_loras, prompts, batch_decoded)]))\n",
    "        ender.record()\n",
    "        torch.cuda.synchronize()\n",
    "        curr_time = starter.elapsed_time(ender)\n",
    "        timings[rep] = curr_time\n",
    "\n",
    "mean_syn = np.sum(timings) / repetitions\n",
    "std_syn = np.std(timings)\n",
    "print(mean_syn / 1000, std_syn / 1000)"
   ]
  }
 ],
 "metadata": {
  "kernelspec": {
   "display_name": "venv",
   "language": "python",
   "name": "python3"
  },
  "language_info": {
   "codemirror_mode": {
    "name": "ipython",
    "version": 3
   },
   "file_extension": ".py",
   "mimetype": "text/x-python",
   "name": "python",
   "nbconvert_exporter": "python",
   "pygments_lexer": "ipython3",
   "version": "3.10.10"
  },
  "orig_nbformat": 4
 },
 "nbformat": 4,
 "nbformat_minor": 2
}
