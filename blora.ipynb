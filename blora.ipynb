{
 "cells": [
  {
   "cell_type": "code",
   "execution_count": null,
   "metadata": {},
   "outputs": [],
   "source": [
    "%load_ext autoreload\n",
    "%autoreload 2\n",
    "\n",
    "import torch\n",
    "from blora_utils import load_loras\n",
    "from transformers import LlamaForCausalLM, LlamaTokenizer\n",
    "from IPython.display import clear_output\n",
    "\n",
    "\n",
    "# Linear.forward = forward\n",
    "torch.set_default_tensor_type(torch.cuda.HalfTensor)"
   ]
  },
  {
   "cell_type": "code",
   "execution_count": null,
   "metadata": {},
   "outputs": [],
   "source": [
    "model_path = \"decapoda-research/llama-7b-hf\"\n",
    "model = LlamaForCausalLM.from_pretrained(model_path)\n",
    "tokenizer = LlamaTokenizer.from_pretrained(model_path)\n",
    "tokenizer.pad_token = 0"
   ]
  },
  {
   "cell_type": "code",
   "execution_count": null,
   "metadata": {},
   "outputs": [],
   "source": [
    "loras = [\"jondurbin/airoboros-7b-gpt4-1.2-peft\", \"trl-lib/llama-7b-se-rl-peft\", \"winddude/wizardLM-LlaMA-LoRA-7B\"]\n",
    "model, lora_map = load_loras(model, loras)"
   ]
  },
  {
   "cell_type": "code",
   "execution_count": null,
   "metadata": {},
   "outputs": [],
   "source": [
    "from blora_utils import prepare_batch\n",
    "\n",
    "inputs = [('Outline a five sentence short story where a character stumbles upon a secret room in their house that contains relics from their future.',\n",
    "  'jondurbin/airoboros-7b-gpt4-1.2-peft'),\n",
    " ('Write a 6 line dialogue between a character and a magical creature that only they can see.',\n",
    "  'trl-lib/llama-7b-se-rl-peft'),\n",
    " ('Describe a four sentence scene where a character discovers a hidden talent that changes their life forever.',\n",
    "  'winddude/wizardLM-LlaMA-LoRA-7B'),\n",
    " ('Sculpt a three verse poem about the feeling of walking through a lush, vibrant garden in full bloom.',\n",
    "  'trl-lib/llama-7b-se-rl-peft'),\n",
    " ('Develop an eight sentence short story about a character who can bring their dreams into reality, but only for a limited time.',\n",
    "  'winddude/wizardLM-LlaMA-LoRA-7B')]\n",
    "\n",
    "batch_lora_ids = [inp[1] for inp in inputs]\n",
    "\n",
    "batch = prepare_batch(inputs, tokenizer, model, lora_map)"
   ]
  },
  {
   "cell_type": "code",
   "execution_count": null,
   "metadata": {},
   "outputs": [],
   "source": [
    "outputs = []\n",
    "\n",
    "for out in model.generate(\n",
    "    **batch,\n",
    "    max_length=200,\n",
    "    stream_output=True\n",
    "):\n",
    "    outputs.append(out)\n",
    "    batch_decoded = tokenizer.batch_decode(torch.cat([out.reshape(-1, 1) for out in outputs], dim=1))\n",
    "    clear_output(wait=True)\n",
    "    print(\"\\n\\n\".join([lora + \":\\n\" + prompt + '\\n' + decoded for (prompt, lora), decoded in zip(inputs, batch_decoded)]))"
   ]
  }
 ],
 "metadata": {
  "kernelspec": {
   "display_name": "venv",
   "language": "python",
   "name": "python3"
  },
  "language_info": {
   "codemirror_mode": {
    "name": "ipython",
    "version": 3
   },
   "file_extension": ".py",
   "mimetype": "text/x-python",
   "name": "python",
   "nbconvert_exporter": "python",
   "pygments_lexer": "ipython3",
   "version": "3.10.10"
  },
  "orig_nbformat": 4
 },
 "nbformat": 4,
 "nbformat_minor": 2
}
