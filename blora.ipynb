{
 "cells": [
  {
   "cell_type": "code",
   "execution_count": 8,
   "metadata": {},
   "outputs": [
    {
     "name": "stdout",
     "output_type": "stream",
     "text": [
      "The autoreload extension is already loaded. To reload it, use:\n",
      "  %reload_ext autoreload\n"
     ]
    }
   ],
   "source": [
    "%load_ext autoreload\n",
    "%autoreload 2\n",
    "\n",
    "import torch\n",
    "import transformers\n",
    "\n",
    "from peft.tuners.lora import Linear\n",
    "import torch.nn.functional as F\n",
    "from peft.utils.other import transpose\n",
    "from peft import PeftModel\n",
    "\n",
    "import numpy as np\n",
    "\n",
    "from blora_utils import load_loras\n",
    "from transformers import LlamaForCausalLM, LlamaTokenizer\n",
    "import scipy.stats as stats\n",
    "import matplotlib.pyplot as plt\n",
    "import random\n",
    "from IPython.display import clear_output\n",
    "\n",
    "\n",
    "# Linear.forward = forward\n",
    "torch.set_default_tensor_type(torch.cuda.HalfTensor)"
   ]
  },
  {
   "cell_type": "code",
   "execution_count": 9,
   "metadata": {},
   "outputs": [
    {
     "name": "stderr",
     "output_type": "stream",
     "text": [
      "Loading checkpoint shards: 100%|██████████| 33/33 [00:11<00:00,  2.81it/s]\n",
      "The tokenizer class you load from this checkpoint is not the same type as the class this function is called from. It may result in unexpected tokenization. \n",
      "The tokenizer class you load from this checkpoint is 'LLaMATokenizer'. \n",
      "The class this function is called from is 'LlamaTokenizer'.\n"
     ]
    }
   ],
   "source": [
    "model_path = \"decapoda-research/llama-7b-hf\"\n",
    "model = LlamaForCausalLM.from_pretrained(model_path)\n",
    "tokenizer = LlamaTokenizer.from_pretrained(model_path)\n",
    "tokenizer.pad_token = 0"
   ]
  },
  {
   "cell_type": "code",
   "execution_count": 11,
   "metadata": {},
   "outputs": [],
   "source": [
    "loras = [\"jondurbin/airoboros-7b-gpt4-1.2-peft\", \"trl-lib/llama-7b-se-rl-peft\", \"winddude/wizardLM-LlaMA-LoRA-7B\"]\n",
    "model, lora_map = load_loras(model, loras)"
   ]
  },
  {
   "cell_type": "code",
   "execution_count": 16,
   "metadata": {},
   "outputs": [],
   "source": [
    "from blora_utils import prepare_batch\n",
    "\n",
    "inputs = [('Outline a five sentence short story where a character stumbles upon a secret room in their house that contains relics from their future.',\n",
    "  'jondurbin/airoboros-7b-gpt4-1.2-peft'),\n",
    " ('Write a 6 line dialogue between a character and a magical creature that only they can see.',\n",
    "  'trl-lib/llama-7b-se-rl-peft'),\n",
    " ('Describe a four sentence scene where a character discovers a hidden talent that changes their life forever.',\n",
    "  'winddude/wizardLM-LlaMA-LoRA-7B'),\n",
    " ('Sculpt a three verse poem about the feeling of walking through a lush, vibrant garden in full bloom.',\n",
    "  'trl-lib/llama-7b-se-rl-peft'),\n",
    " ('Develop an eight sentence short story about a character who can bring their dreams into reality, but only for a limited time.',\n",
    "  'winddude/wizardLM-LlaMA-LoRA-7B')]\n",
    "\n",
    "batch = prepare_batch(inputs, tokenizer, model, lora_map)"
   ]
  },
  {
   "cell_type": "code",
   "execution_count": 19,
   "metadata": {},
   "outputs": [
    {
     "name": "stdout",
     "output_type": "stream",
     "text": [
      "jondurbin/airoboros-7b-gpt4-1.2-peft:\n",
      "Outline a five sentence short story where a character stumbles upon a secret room in their house that contains relics from their future.\n",
      "\n",
      "The character, who is a young boy named Timmy, stumbles upon a secret room in his house that contained relics from his future. The room was hidden behind a bookcase in the library, and it was filled with strange artifacts and documents.\n",
      "Timmy's curiosity got the best of him, and he decided to explore the room. As he opened the door, he was greeted by a strange man wearing a long coat and a top hat. The man introduced himself as Dr. Time, and he explained that he was from the future.\n",
      "Dr. Time told Timmy that he had traveled back in time to prevent a catastrophic event from happening. He had discovered a way to manipulate time, but it required the use of these relics.\n",
      "Timmy was\n",
      "\n",
      "trl-lib/llama-7b-se-rl-peft:\n",
      "Write a 6 line dialogue between a character and a magical creature that only they can see.\n",
      "\n",
      "Write a 6 line dialogue between a character and a magical creature that only they can see.\n",
      "Write a 6 line dialogue between a character and a magical creature that only they can see. The creature must be a magical creature that is not a human.\n",
      "Write a 6 line dialogue between a character and a magical creature that only they can see. The creature must be a magical creature that is not a human.\n",
      "Write a 6 line dialogue between a character and a magical creature that only they can see. The creature must be a magical creature that is not a human. The creature must be a magical creature that is not a human.\n",
      "Write a 6 line dialogue between a character and a magical creature that only they can see. The creature must be\n",
      "\n",
      "winddude/wizardLM-LlaMA-LoRA-7B:\n",
      "Describe a four sentence scene where a character discovers a hidden talent that changes their life forever.\n",
      "\n",
      "What is the name of the character?\n",
      "What is the talent?\n",
      "What is the setting of the scene?\n",
      "What is the character’s reaction to the discovery?\n",
      "What is the impact of the talent on the character’s life?\n",
      "What is the character’s next step?\n",
      "What is the name of the character? The character’s name is John.\n",
      "What is the talent? The talent is playing the guitar.\n",
      "What is the setting of the scene? The setting of the scene is John’s bedroom.\n",
      "What is the character’s reaction to the discovery? John is excited and surprised by his new talent.\n",
      "What is the impact of the talent on the character’s life? The talent changes John’s life forever. He is now able to express himself through music and connect with\n",
      "\n",
      "trl-lib/llama-7b-se-rl-peft:\n",
      "Sculpt a three verse poem about the feeling of walking through a lush, vibrant garden in full bloom.\n",
      "\n",
      "The poem should be written in the first person.\n",
      "The poem should be written in free verse.\n",
      "The poem should be written in a form of poetry that is not a sonnet.\n",
      "The poem should be written in a form of poetry that is not a haiku.\n",
      "The poem should be written in a form of poetry that is not a limerick.\n",
      "The poem should be written in a form of poetry that is not a cinquain.\n",
      "The poem should be written in a form of poetry that is not a diamante.\n",
      "The poem should be written in a form of poetry that is not a pantoum.\n",
      "The poem should be written in a form of poetry that is not a rondeau.\n",
      "The poem should be written in a form of poetry that is not a sestina\n",
      "\n",
      "winddude/wizardLM-LlaMA-LoRA-7B:\n",
      "Develop an eight sentence short story about a character who can bring their dreams into reality, but only for a limited time.\n",
      "\n",
      "10. 10 10 10 10 10 10 10 10 10 10 10 10 10 10 10 10 10 10 10 10 10 10 10 10 10 10 10 10 10 10 10 10 10 10 10 10 10 10 10 10 10 10 10 10 10 10 10 10 10 10 10 10 10 10 10 \n"
     ]
    }
   ],
   "source": [
    "outputs = []\n",
    "\n",
    "for out in model.generate(\n",
    "    **batch,\n",
    "    max_length=200,\n",
    "    stream_output=True\n",
    "):\n",
    "    outputs.append(out)\n",
    "    batch_decoded = tokenizer.batch_decode(torch.cat([out.reshape(-1, 1) for out in outputs], dim=1))\n",
    "    print(\"\\n\\n\".join([lora + \":\\n\" + prompt + '\\n' + decoded for (prompt, lora), decoded in zip(inputs, batch_decoded)]))"
   ]
  }
 ],
 "metadata": {
  "kernelspec": {
   "display_name": "venv",
   "language": "python",
   "name": "python3"
  },
  "language_info": {
   "codemirror_mode": {
    "name": "ipython",
    "version": 3
   },
   "file_extension": ".py",
   "mimetype": "text/x-python",
   "name": "python",
   "nbconvert_exporter": "python",
   "pygments_lexer": "ipython3",
   "version": "3.10.10"
  },
  "orig_nbformat": 4
 },
 "nbformat": 4,
 "nbformat_minor": 2
}
